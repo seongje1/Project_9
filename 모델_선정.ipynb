{
 "cells": [
  {
   "cell_type": "markdown",
   "id": "7a6508ff-c34f-45c5-9700-4b3fc657095c",
   "metadata": {},
   "source": [
    "# 모델 선정하는 곳입니다."
   ]
  },
  {
   "cell_type": "markdown",
   "id": "5f29f402-c359-4c14-a8c3-1a418c94d511",
   "metadata": {},
   "source": [
    "## 해야할 일\n",
    "1) 우리 프로젝트에 맞는 모델 찾기 (한국어로 할지, 영어로 할지)\n",
    "2) 각 모델에 어떤 파라미터가 있는지 알아오기\n",
    "3) 되도록이면 학습을 한번에 여러번 돌릴 수 있도록 FOR문으로 만들어 주깅"
   ]
  },
  {
   "cell_type": "code",
   "execution_count": null,
   "id": "4a374de1-f2fa-4060-a3ac-ff1f191b138a",
   "metadata": {},
   "outputs": [],
   "source": []
  },
  {
   "cell_type": "code",
   "execution_count": null,
   "id": "d8a24a7d-b49d-4c3d-99ef-52c5f19a11a7",
   "metadata": {},
   "outputs": [],
   "source": []
  },
  {
   "cell_type": "code",
   "execution_count": null,
   "id": "7caba7d9-cef3-4e60-a7ce-55f73bde0680",
   "metadata": {},
   "outputs": [],
   "source": []
  },
  {
   "cell_type": "code",
   "execution_count": null,
   "id": "4c587e43-fcb8-4f23-82a7-256745baafd5",
   "metadata": {},
   "outputs": [],
   "source": []
  }
 ],
 "metadata": {
  "kernelspec": {
   "display_name": "Python 3 (ipykernel)",
   "language": "python",
   "name": "python3"
  },
  "language_info": {
   "codemirror_mode": {
    "name": "ipython",
    "version": 3
   },
   "file_extension": ".py",
   "mimetype": "text/x-python",
   "name": "python",
   "nbconvert_exporter": "python",
   "pygments_lexer": "ipython3",
   "version": "3.11.0"
  }
 },
 "nbformat": 4,
 "nbformat_minor": 5
}
