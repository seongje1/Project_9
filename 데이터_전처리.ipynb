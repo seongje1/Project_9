{
 "cells": [
  {
   "cell_type": "markdown",
   "id": "855c3cb6-f493-4f09-88ba-f552e5352ddb",
   "metadata": {},
   "source": [
    "# 데이터 전처리(EDA)를 하는 곳입니다."
   ]
  },
  {
   "cell_type": "markdown",
   "id": "88b5a938-c29f-4afe-814c-2c0d57182bca",
   "metadata": {},
   "source": [
    "## 학습에 넣어야할 데이터를 학습에 맞게 넣어줘야함.\n",
    "1) 교육에 맞는 데이터를 추출하기\n",
    "2) 학습에 맞는 데이터 형식으로 만들어 주기"
   ]
  },
  {
   "cell_type": "code",
   "execution_count": null,
   "id": "dd969adb-b050-4467-906f-ea186d9d197d",
   "metadata": {},
   "outputs": [],
   "source": []
  },
  {
   "cell_type": "code",
   "execution_count": null,
   "id": "849432bf-61be-4f19-9c2c-c15c7b035444",
   "metadata": {},
   "outputs": [],
   "source": []
  },
  {
   "cell_type": "code",
   "execution_count": null,
   "id": "1a8edb18-cece-4cae-8e12-ead96bf5a716",
   "metadata": {},
   "outputs": [],
   "source": []
  },
  {
   "cell_type": "code",
   "execution_count": null,
   "id": "f7a11356-442e-41f8-8c1a-b0e3251876a7",
   "metadata": {},
   "outputs": [],
   "source": []
  }
 ],
 "metadata": {
  "kernelspec": {
   "display_name": "Python 3 (ipykernel)",
   "language": "python",
   "name": "python3"
  },
  "language_info": {
   "codemirror_mode": {
    "name": "ipython",
    "version": 3
   },
   "file_extension": ".py",
   "mimetype": "text/x-python",
   "name": "python",
   "nbconvert_exporter": "python",
   "pygments_lexer": "ipython3",
   "version": "3.11.0"
  }
 },
 "nbformat": 4,
 "nbformat_minor": 5
}
